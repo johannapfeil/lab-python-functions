{
 "cells": [
  {
   "cell_type": "markdown",
   "id": "25d7736c-ba17-4aff-b6bb-66eba20fbf4e",
   "metadata": {},
   "source": [
    "# Lab | Functions"
   ]
  },
  {
   "cell_type": "markdown",
   "id": "0c581062-8967-4d93-b06e-62833222f930",
   "metadata": {
    "tags": []
   },
   "source": [
    "## Exercise: Managing Customer Orders with Functions\n",
    "\n",
    "In the previous exercise, you improved the code for managing customer orders by using loops and flow control. Now, let's take it a step further and refactor the code by introducing functions.\n",
    "\n",
    "Follow the steps below to complete the exercise:\n",
    "\n",
    "1. Define a function named `initialize_inventory` that takes `products` as a parameter. Inside the function, implement the code for initializing the inventory dictionary using a loop and user input.\n",
    "\n",
    "2. Define a function named `get_customer_orders` that takes no parameters. Inside the function, implement the code for prompting the user to enter the product names using a loop. The function should return the `customer_orders` set.\n",
    "\n",
    "3. Define a function named `update_inventory` that takes `customer_orders` and `inventory` as parameters. Inside the function, implement the code for updating the inventory dictionary based on the customer orders.\n",
    "\n",
    "4. Define a function named `calculate_order_statistics` that takes `customer_orders` and `products` as parameters. Inside the function, implement the code for calculating the order statistics (total products ordered, and percentage of unique products ordered). The function should return these values.\n",
    "\n",
    "5. Define a function named `print_order_statistics` that takes `order_statistics` as a parameter. Inside the function, implement the code for printing the order statistics.\n",
    "\n",
    "6. Define a function named `print_updated_inventory` that takes `inventory` as a parameter. Inside the function, implement the code for printing the updated inventory.\n",
    "\n",
    "7. Call the functions in the appropriate sequence to execute the program and manage customer orders.\n",
    "\n",
    "Hints for functions:\n",
    "\n",
    "- Consider the input parameters required for each function and their return values.\n",
    "- Utilize function parameters and return values to transfer data between functions.\n",
    "- Test your functions individually to ensure they work correctly.\n",
    "\n",
    "\n"
   ]
  },
  {
   "cell_type": "markdown",
   "id": "fe1869af",
   "metadata": {},
   "source": [
    "# Inventory"
   ]
  },
  {
   "cell_type": "code",
   "execution_count": null,
   "id": "e5dac088",
   "metadata": {},
   "outputs": [],
   "source": [
    "products = ['t-shirt', 'mug', 'hat', 'book', 'keychain']\n",
    "inventory = {}\n",
    "customer_orders = set()"
   ]
  },
  {
   "cell_type": "markdown",
   "id": "ec410bbc",
   "metadata": {},
   "source": [
    "## Quantity of each product"
   ]
  },
  {
   "cell_type": "code",
   "execution_count": null,
   "id": "281a373e",
   "metadata": {},
   "outputs": [],
   "source": [
    "# Ask the user to specify the quantity of each product\n",
    "def initialize_inventory(products):\n",
    "    for product in products:\n",
    "    \n",
    "        while True:\n",
    "            quantity = input(f'How many items of {product} are available?: ')\n",
    "        \n",
    "            # Check whether the input is valid\n",
    "            if quantity.isdigit() == False: print('Please enter a valid number.')\n",
    "        \n",
    "            else:\n",
    "                # Store the product and its quantity in the inventory\n",
    "                inventory[product] = int(quantity)\n",
    "                break"
   ]
  },
  {
   "cell_type": "code",
   "execution_count": null,
   "id": "f80030c0",
   "metadata": {},
   "outputs": [],
   "source": [
    "initialize_inventory(products)\n",
    "print(inventory)"
   ]
  },
  {
   "cell_type": "markdown",
   "id": "790b3a75",
   "metadata": {},
   "source": [
    "## Customer selects 3 products"
   ]
  },
  {
   "cell_type": "code",
   "execution_count": null,
   "id": "803ec61c",
   "metadata": {},
   "outputs": [],
   "source": [
    "# Ask the user to specify three products\n",
    "def get_customer_orders():\n",
    "    while True:\n",
    "        product = input(f'Please enter a product: ').strip().lower()\n",
    "         \n",
    "        # Check whether the input is valid\n",
    "        if product not in products: \n",
    "            print('There is a typo. Try again.')  \n",
    "            \n",
    "        # Store unique products in the set\n",
    "        else:\n",
    "            customer_orders.add(product)\n",
    "            \n",
    "            while True:\n",
    "                answer = input('Do you want to add another product (yes/no)?: ').strip().lower()\n",
    "            \n",
    "                if answer not in ('yes','no'):\n",
    "                    print('There is a typo. Try again.')\n",
    "                \n",
    "                elif answer == 'yes':\n",
    "                    break\n",
    "                \n",
    "                elif answer == 'no':\n",
    "                    return customer_orders"
   ]
  },
  {
   "cell_type": "code",
   "execution_count": null,
   "id": "bc492808",
   "metadata": {},
   "outputs": [],
   "source": [
    "get_customer_orders()"
   ]
  },
  {
   "cell_type": "markdown",
   "id": "73da9f02",
   "metadata": {},
   "source": [
    "## Percentage ordered"
   ]
  },
  {
   "cell_type": "code",
   "execution_count": null,
   "id": "6a2e0d5d",
   "metadata": {},
   "outputs": [],
   "source": [
    "def calculate_order_statistics(customer_orders, products):\n",
    "    number_products = len(customer_orders)\n",
    "    percentage_ordered = len(customer_orders) / len(products) * 100\n",
    "    order_statistics = (number_products, percentage_ordered)\n",
    "    return order_statistics"
   ]
  },
  {
   "cell_type": "code",
   "execution_count": null,
   "id": "d9efdc44",
   "metadata": {},
   "outputs": [],
   "source": [
    "def print_order_statistics(order_statistics):\n",
    "    print(f'''Order Statistics:\n",
    "Total products ordered: {order_statistics[0]}\n",
    "Percentage of products ordered: {order_statistics[1]:.0f}%''')"
   ]
  },
  {
   "cell_type": "code",
   "execution_count": null,
   "id": "ad782cdc",
   "metadata": {},
   "outputs": [],
   "source": [
    "order_statistics = calculate_order_statistics(customer_orders, products)\n",
    "print_order_statistics(order_statistics)"
   ]
  },
  {
   "cell_type": "markdown",
   "id": "daf539ff",
   "metadata": {},
   "source": [
    "# Inventory update"
   ]
  },
  {
   "cell_type": "code",
   "execution_count": null,
   "id": "dcd4585f",
   "metadata": {},
   "outputs": [],
   "source": [
    "def update_inventory(customer_orders, inventory):\n",
    "    for product in customer_orders:\n",
    "        if product in inventory:\n",
    "            inventory[product] -= 1\n",
    "    return inventory"
   ]
  },
  {
   "cell_type": "code",
   "execution_count": null,
   "id": "e1023958",
   "metadata": {},
   "outputs": [],
   "source": [
    "def print_updated_inventory(inventory):\n",
    "    for product, quantity in inventory.items():\n",
    "        print(f'{product}: {quantity}')"
   ]
  },
  {
   "cell_type": "code",
   "execution_count": null,
   "id": "5564d137",
   "metadata": {},
   "outputs": [],
   "source": [
    "updated_inventory = update_inventory(customer_orders, inventory)\n",
    "#print_updated_inventory(updated_inventory)"
   ]
  },
  {
   "cell_type": "code",
   "execution_count": null,
   "id": "5b25d03c",
   "metadata": {},
   "outputs": [],
   "source": []
  }
 ],
 "metadata": {
  "kernelspec": {
   "display_name": "Python 3 (ipykernel)",
   "language": "python",
   "name": "python3"
  },
  "language_info": {
   "codemirror_mode": {
    "name": "ipython",
    "version": 3
   },
   "file_extension": ".py",
   "mimetype": "text/x-python",
   "name": "python",
   "nbconvert_exporter": "python",
   "pygments_lexer": "ipython3",
   "version": "3.9.13"
  }
 },
 "nbformat": 4,
 "nbformat_minor": 5
}
